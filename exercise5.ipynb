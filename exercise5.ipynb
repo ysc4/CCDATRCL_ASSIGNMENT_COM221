{
  "cells": [
    {
      "cell_type": "markdown",
      "metadata": {
        "id": "view-in-github",
        "colab_type": "text"
      },
      "source": [
        "<a href=\"https://colab.research.google.com/github/ysc4/CCDATRCL_ASSIGNMENT_COM221/blob/main/exercise5.ipynb\" target=\"_parent\"><img src=\"https://colab.research.google.com/assets/colab-badge.svg\" alt=\"Open In Colab\"/></a>"
      ]
    },
    {
      "cell_type": "markdown",
      "metadata": {
        "id": "Xx7uJT4MCbuu"
      },
      "source": [
        "# Exercise 5"
      ]
    },
    {
      "cell_type": "markdown",
      "metadata": {
        "id": "nHc5vXfkCbu1"
      },
      "source": [
        "#### 1. Create a dictionary of your 10 favorite songs."
      ]
    },
    {
      "cell_type": "markdown",
      "metadata": {
        "id": "J3-JidWgCbu2"
      },
      "source": [
        "Example:\n",
        "\n",
        "|KEY|VALUE|\n",
        "|---|---|\n",
        "|001|My Love|\n",
        "|002|Like a rose|"
      ]
    },
    {
      "cell_type": "code",
      "execution_count": 13,
      "metadata": {
        "id": "vpumU0nFCbu3"
      },
      "outputs": [],
      "source": [
        "songs = {\n",
        "    \"001\": \"Love\",\n",
        "    \"002\": \"Homebody\",\n",
        "    \"003\": \"Like Me\",\n",
        "    \"004\": \"Jasmine\",\n",
        "    \"005\": \"Sugar Rush Ride\",\n",
        "    \"006\": \"HIDE & SICK\",\n",
        "    \"007\": \"50/50\",\n",
        "    \"008\": \"WA-R-R\",\n",
        "    \"009\": \"calla\",\n",
        "    \"010\": \"ONLY\"\n",
        "}"
      ]
    },
    {
      "cell_type": "markdown",
      "metadata": {
        "id": "GzOb_MKyCbu5"
      },
      "source": [
        "#### 2. Loop through the dictionary by its **key** and **value**"
      ]
    },
    {
      "cell_type": "code",
      "execution_count": 14,
      "metadata": {
        "id": "4gvkg9kxCbu6",
        "colab": {
          "base_uri": "https://localhost:8080/"
        },
        "outputId": "59576258-cba1-4d07-ce27-d9a6ad955aba"
      },
      "outputs": [
        {
          "output_type": "stream",
          "name": "stdout",
          "text": [
            "001 Love\n",
            "002 Homebody\n",
            "003 Like Me\n",
            "004 Jasmine\n",
            "005 Sugar Rush Ride\n",
            "006 HIDE & SICK\n",
            "007 50/50\n",
            "008 WA-R-R\n",
            "009 calla\n",
            "010 ONLY\n"
          ]
        }
      ],
      "source": [
        "for x,y in songs.items():\n",
        "  print (x,y)"
      ]
    },
    {
      "cell_type": "markdown",
      "metadata": {
        "id": "8sqGh2n6Cbu7"
      },
      "source": [
        "#### 3. Add one additional song"
      ]
    },
    {
      "cell_type": "code",
      "execution_count": 15,
      "metadata": {
        "id": "CpmgYHb0Cbu7",
        "colab": {
          "base_uri": "https://localhost:8080/"
        },
        "outputId": "b082a552-1859-4f4f-9e05-f2fc1965b015"
      },
      "outputs": [
        {
          "output_type": "execute_result",
          "data": {
            "text/plain": [
              "{'001': 'Love',\n",
              " '002': 'Homebody',\n",
              " '003': 'Like Me',\n",
              " '004': 'Jasmine',\n",
              " '005': 'Sugar Rush Ride',\n",
              " '006': 'HIDE & SICK',\n",
              " '007': '50/50',\n",
              " '008': 'WA-R-R',\n",
              " '009': 'calla',\n",
              " '010': 'ONLY',\n",
              " '011': '21'}"
            ]
          },
          "metadata": {},
          "execution_count": 15
        }
      ],
      "source": [
        "songs[\"011\"] = \"21\"\n",
        "songs"
      ]
    },
    {
      "cell_type": "markdown",
      "metadata": {
        "id": "ZX_xGL-OCbu8"
      },
      "source": [
        "#### 4. Remove one song"
      ]
    },
    {
      "cell_type": "code",
      "execution_count": 16,
      "metadata": {
        "id": "3vHTmoFtCbu8",
        "colab": {
          "base_uri": "https://localhost:8080/"
        },
        "outputId": "1c5966e2-1194-44dc-e693-ff16eb13d724"
      },
      "outputs": [
        {
          "output_type": "execute_result",
          "data": {
            "text/plain": [
              "{'001': 'Love',\n",
              " '002': 'Homebody',\n",
              " '003': 'Like Me',\n",
              " '004': 'Jasmine',\n",
              " '006': 'HIDE & SICK',\n",
              " '007': '50/50',\n",
              " '008': 'WA-R-R',\n",
              " '009': 'calla',\n",
              " '010': 'ONLY',\n",
              " '011': '21'}"
            ]
          },
          "metadata": {},
          "execution_count": 16
        }
      ],
      "source": [
        "songs.pop(\"005\")\n",
        "songs"
      ]
    },
    {
      "cell_type": "markdown",
      "metadata": {
        "id": "5wFvVF2vCbu9"
      },
      "source": [
        "#### 5. Create a nested dictionary of your 10 favorite songs with 5 genres. Display all of the items of the nested dictionary\n",
        "\n",
        "- Each nested dictionary's key should be the genre of the song\n",
        "- Put each song in their respective genre"
      ]
    },
    {
      "cell_type": "markdown",
      "metadata": {
        "id": "GmulrttMCbu9"
      },
      "source": [
        "Example:\n",
        "\n",
        "\n",
        "|KEY|VALUE|\n",
        "|---|---|\n",
        "|Pop|{001, Baby}|\n",
        "|Rock|{001, Enter Sandman}|"
      ]
    },
    {
      "cell_type": "code",
      "execution_count": 17,
      "metadata": {
        "id": "elrawmGzCbu9"
      },
      "outputs": [],
      "source": [
        "favsongs = {\n",
        "    \"KPop\" : {\n",
        "        \"001\" : \"Sugar Rush Ride\",\n",
        "        \"002\" : \"Run Away\"\n",
        "    },\n",
        "    \"KRnB\" : {\n",
        "        \"001\" : \"Heartbreak Club\",\n",
        "        \"002\" : \"ONLY\"\n",
        "    },\n",
        "    \"OPM\" : {\n",
        "        \"001\" : \"Raining in Manila\",\n",
        "        \"002\" : \"Uhaw\"\n",
        "    },\n",
        "    \"Pop\" : {\n",
        "        \"001\" : \"Seven\",\n",
        "        \"002\" : \"Cupid (Twin Ver)\"\n",
        "    },\n",
        "    \"K Hip-Hop\" : {\n",
        "        \"001\" : \"Jasmine\",\n",
        "        \"002\" : \"Just Do It\"\n",
        "    }\n",
        "}"
      ]
    },
    {
      "cell_type": "markdown",
      "metadata": {
        "id": "qJSp_lnnCbu9"
      },
      "source": [
        "#### 6. Print the first song of the first genre"
      ]
    },
    {
      "cell_type": "code",
      "execution_count": 18,
      "metadata": {
        "id": "O9uJ9UkfCbu-",
        "colab": {
          "base_uri": "https://localhost:8080/"
        },
        "outputId": "17be5ffb-0770-4c11-f550-3f91a86c5068"
      },
      "outputs": [
        {
          "output_type": "stream",
          "name": "stdout",
          "text": [
            "Sugar Rush Ride\n"
          ]
        }
      ],
      "source": [
        "print(favsongs[\"KPop\"][\"001\"])"
      ]
    },
    {
      "cell_type": "markdown",
      "metadata": {
        "id": "ZBv26XYHCbu-"
      },
      "source": [
        "#### 7. Print the first song of the last genre"
      ]
    },
    {
      "cell_type": "code",
      "execution_count": 19,
      "metadata": {
        "id": "vd3aaxDeCbu-",
        "colab": {
          "base_uri": "https://localhost:8080/"
        },
        "outputId": "46dce9ff-d946-42e0-e4df-be133197af87"
      },
      "outputs": [
        {
          "output_type": "stream",
          "name": "stdout",
          "text": [
            "Jasmine\n"
          ]
        }
      ],
      "source": [
        "print(favsongs[\"K Hip-Hop\"][\"001\"])"
      ]
    }
  ],
  "metadata": {
    "kernelspec": {
      "display_name": "Python 3",
      "language": "python",
      "name": "python3"
    },
    "language_info": {
      "codemirror_mode": {
        "name": "ipython",
        "version": 3
      },
      "file_extension": ".py",
      "mimetype": "text/x-python",
      "name": "python",
      "nbconvert_exporter": "python",
      "pygments_lexer": "ipython3",
      "version": "3.11.4"
    },
    "orig_nbformat": 4,
    "colab": {
      "provenance": [],
      "include_colab_link": true
    }
  },
  "nbformat": 4,
  "nbformat_minor": 0
}