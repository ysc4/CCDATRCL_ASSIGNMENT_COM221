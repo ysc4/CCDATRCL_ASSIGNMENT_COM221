{
  "cells": [
    {
      "cell_type": "markdown",
      "metadata": {
        "id": "view-in-github",
        "colab_type": "text"
      },
      "source": [
        "<a href=\"https://colab.research.google.com/github/ysc4/CCDATRCL_ASSIGNMENT_COM221/blob/main/exercise3.ipynb\" target=\"_parent\"><img src=\"https://colab.research.google.com/assets/colab-badge.svg\" alt=\"Open In Colab\"/></a>"
      ]
    },
    {
      "cell_type": "markdown",
      "metadata": {
        "id": "L7Jl3qolUnin"
      },
      "source": [
        "# Exercise 3"
      ]
    },
    {
      "cell_type": "markdown",
      "metadata": {
        "id": "oLBQ9cQBUnir"
      },
      "source": [
        "#### Pre-defined classes"
      ]
    },
    {
      "cell_type": "markdown",
      "metadata": {
        "id": "BuvzG7Z0Unis"
      },
      "source": [
        "Pre-defined Queue class"
      ]
    },
    {
      "cell_type": "code",
      "execution_count": 117,
      "metadata": {
        "id": "Jw8qhavbUnis"
      },
      "outputs": [],
      "source": [
        "class Queue:\n",
        "    def __init__(self):\n",
        "        self.queue = []\n",
        "\n",
        "    # Add an element\n",
        "    def enqueue(self, item):\n",
        "        self.queue.append(item)\n",
        "\n",
        "    # Remove an element\n",
        "    def dequeue(self):\n",
        "        if len(self.queue) < 1:\n",
        "            return None\n",
        "        return self.queue.pop(0)\n",
        "\n",
        "    # Display  the queue\n",
        "    def display(self):\n",
        "        print(self.queue)\n",
        "\n",
        "    def size(self):\n",
        "        return len(self.queue)\n",
        "\n",
        "    def peek(self):\n",
        "        return self.queue[0]\n"
      ]
    },
    {
      "cell_type": "markdown",
      "metadata": {
        "id": "_2PtHxNRUniu"
      },
      "source": [
        "Pre-defined Deque class"
      ]
    },
    {
      "cell_type": "code",
      "execution_count": 118,
      "metadata": {
        "id": "Do_D3uK4Uniu"
      },
      "outputs": [],
      "source": [
        "class Deque:\n",
        "    def __init__(self):\n",
        "        self.items = []\n",
        "\n",
        "    def isEmpty(self):\n",
        "        return self.items == []\n",
        "\n",
        "    def addRear(self, item):\n",
        "        self.items.append(item)\n",
        "\n",
        "    def addFront(self, item):\n",
        "        self.items.insert(0, item)\n",
        "\n",
        "    def removeFront(self):\n",
        "        return self.items.pop(0)\n",
        "\n",
        "    def removeRear(self):\n",
        "        return self.items.pop()\n",
        "\n",
        "    def size(self):\n",
        "        return len(self.items)"
      ]
    },
    {
      "cell_type": "markdown",
      "metadata": {
        "id": "lHr54XkGUniv"
      },
      "source": [
        "Pre-defined Circular Queue class"
      ]
    },
    {
      "cell_type": "code",
      "execution_count": 119,
      "metadata": {
        "id": "dyDj099lUniw"
      },
      "outputs": [],
      "source": [
        "class CircularQueue():\n",
        "\n",
        "    def __init__(self, k):\n",
        "        self.k = k\n",
        "        self.queue = [None] * k\n",
        "        self.head = self.tail = -1\n",
        "\n",
        "    # Insert an element into the circular queue\n",
        "    def enqueue(self, data):\n",
        "\n",
        "        if ((self.tail + 1) % self.k == self.head):\n",
        "            print(\"The circular queue is full\\n\")\n",
        "\n",
        "        elif (self.head == -1):\n",
        "            self.head = 0\n",
        "            self.tail = 0\n",
        "            self.queue[self.tail] = data\n",
        "        else:\n",
        "            self.tail = (self.tail + 1) % self.k\n",
        "            self.queue[self.tail] = data\n",
        "\n",
        "    # Delete an element from the circular queue\n",
        "    def dequeue(self):\n",
        "        if (self.head == -1):\n",
        "            print(\"The circular queue is empty\\n\")\n",
        "\n",
        "        elif (self.head == self.tail):\n",
        "            temp = self.queue[self.head]\n",
        "            self.head = -1\n",
        "            self.tail = -1\n",
        "            return temp\n",
        "        else:\n",
        "            temp = self.queue[self.head]\n",
        "            self.head = (self.head + 1) % self.k\n",
        "            return temp\n",
        "\n",
        "    def printCQueue(self):\n",
        "        if(self.head == -1):\n",
        "            print(\"No element in the circular queue\")\n",
        "\n",
        "        elif (self.tail >= self.head):\n",
        "            for i in range(self.head, self.tail + 1):\n",
        "                print(self.queue[i], end=\" \")\n",
        "            print()\n",
        "        else:\n",
        "            for i in range(self.head, self.k):\n",
        "                print(self.queue[i], end=\" \")\n",
        "            for i in range(0, self.tail + 1):\n",
        "                print(self.queue[i], end=\" \")\n",
        "            print()\n"
      ]
    },
    {
      "cell_type": "markdown",
      "metadata": {
        "id": "ebS4qAWIUniw"
      },
      "source": [
        "Pre-defined Priority Queue Class"
      ]
    },
    {
      "cell_type": "code",
      "execution_count": 120,
      "metadata": {
        "id": "sBBzeW8pUnix"
      },
      "outputs": [],
      "source": [
        "class PriorityQueueNode:\n",
        "    def __init__(self, value, pr):\n",
        "\n",
        "        self.data = value\n",
        "        self.priority = pr\n",
        "        self.next = None"
      ]
    },
    {
      "cell_type": "code",
      "execution_count": 121,
      "metadata": {
        "id": "N8YZN6lHUnix"
      },
      "outputs": [],
      "source": [
        "class PriorityQueue:\n",
        "\n",
        "\tdef __init__(self):\n",
        "\n",
        "\t\tself.front = None\n",
        "\n",
        "\t# Method to check Priority Queue is Empty\n",
        "\t# or not if Empty then it will return True\n",
        "\t# Otherwise False\n",
        "\tdef isEmpty(self):\n",
        "\n",
        "\t\treturn True if self.front == None else False\n",
        "\n",
        "\t# Method to add items in Priority Queue\n",
        "\t# According to their priority value\n",
        "\tdef push(self, value, priority):\n",
        "\n",
        "\t\t# Condition check for checking Priority\n",
        "\t\t# Queue is empty or not\n",
        "\t\tif self.isEmpty() == True:\n",
        "\n",
        "\t\t\t# Creating a new node and assigning\n",
        "\t\t\t# it to class variable\n",
        "\t\t\tself.front = PriorityQueueNode(value, priority)\n",
        "\n",
        "\t\t\t# Returning 1 for successful execution\n",
        "\t\t\treturn 1\n",
        "\n",
        "\t\telse:\n",
        "\n",
        "\t\t\t# Special condition check to see that\n",
        "\t\t\t# first node priority value\n",
        "\t\t\tif self.front.priority > priority:\n",
        "\t\t\t\t# Creating a new node\n",
        "\t\t\t\tnewNode = PriorityQueueNode(value, priority)\n",
        "\t\t\t\t# Updating the new node next value\n",
        "\t\t\t\tnewNode.next = self.front\n",
        "\n",
        "\t\t\t\t# Assigning it to self.front\n",
        "\t\t\t\tself.front = newNode\n",
        "\n",
        "\t\t\t\t# Returning 1 for successful execution\n",
        "\t\t\t\treturn 1\n",
        "\n",
        "\t\t\telse:\n",
        "\n",
        "\t\t\t\t# Traversing through Queue until it\n",
        "\t\t\t\t# finds the next smaller priority node\n",
        "\t\t\t\ttemp = self.front\n",
        "\n",
        "\t\t\t\twhile temp.next:\n",
        "\t\t\t\t\t# If same priority node found then current\n",
        "\t\t\t\t\t# node will come after previous node\n",
        "\t\t\t\t\tif priority <= temp.next.priority:\n",
        "\t\t\t\t\t\tbreak\n",
        "\n",
        "\t\t\t\t\ttemp = temp.next\n",
        "\n",
        "\t\t\t\tnewNode = PriorityQueueNode(value, priority)\n",
        "\t\t\t\tnewNode.next = temp.next\n",
        "\t\t\t\ttemp.next = newNode\n",
        "\n",
        "\t\t\t\t# Returning 1 for successful execution\n",
        "\t\t\t\treturn 1\n",
        "\n",
        "\t# Method to remove high priority item\n",
        "\t# from the Priority Queue\n",
        "\tdef pop(self):\n",
        "\n",
        "\t\t# Condition check for checking\n",
        "\t\t# Priority Queue is empty or not\n",
        "\t\tif self.isEmpty() == True:\n",
        "\t\t\treturn\n",
        "\t\telse:\n",
        "\t\t\t# Removing high priority node from\n",
        "\t\t\t# Priority Queue, and updating front\n",
        "\t\t\t# with next node\n",
        "\t\t\tself.front = self.front.next\n",
        "\t\t\treturn 1\n",
        "\n",
        "\t# Method to return high priority node\n",
        "\t# value Not removing it\n",
        "\tdef peek(self):\n",
        "\t\t# Condition check for checking Priority\n",
        "\t\t# Queue is empty or not\n",
        "\t\tif self.isEmpty() == True:\n",
        "\t\t\treturn\n",
        "\t\telse:\n",
        "\t\t\treturn self.front.data\n",
        "\n",
        "\t# Method to Traverse through Priority\n",
        "\t# Queue\n",
        "\tdef traverse(self):\n",
        "\t\t# Condition check for checking Priority\n",
        "\t\t# Queue is empty or not\n",
        "\t\tif self.isEmpty() == True:\n",
        "\t\t\treturn \"Queue is Empty!\"\n",
        "\t\telse:\n",
        "\t\t\ttemp = self.front\n",
        "\t\t\twhile temp:\n",
        "\t\t\t\tprint(temp.data, end=\" \")\n",
        "\t\t\t\ttemp = temp.next\n"
      ]
    },
    {
      "cell_type": "markdown",
      "metadata": {
        "id": "LCUJOsVmUnix"
      },
      "source": [
        "#### 1. Create a Queue\n",
        "\n",
        "- Each element should contain your name and your other classmates\n",
        "- There should be at least 5 elements in the queue\n",
        "- Put yourself at the end of the queue\n",
        "- Print all elements in the queue"
      ]
    },
    {
      "cell_type": "code",
      "execution_count": 122,
      "metadata": {
        "colab": {
          "base_uri": "https://localhost:8080/"
        },
        "id": "5Bx64jP2Uniy",
        "outputId": "8e95048e-de96-4a05-86e6-dacae1a0d276"
      },
      "outputs": [
        {
          "output_type": "stream",
          "name": "stdout",
          "text": [
            "['Jassy', 'Blix', 'Jerico', 'Franze', 'Jessy']\n"
          ]
        }
      ],
      "source": [
        "classmates = Queue()\n",
        "classmates.enqueue('Jassy')\n",
        "classmates.enqueue('Blix')\n",
        "classmates.enqueue('Jerico')\n",
        "classmates.enqueue('Franze')\n",
        "classmates.enqueue('Jessy')\n",
        "\n",
        "classmates.display()"
      ]
    },
    {
      "cell_type": "markdown",
      "metadata": {
        "id": "TdmxkpqKUniy"
      },
      "source": [
        "#### 2. Create a Deque\n",
        "\n",
        "Given the queue below,\n",
        "\n",
        "**Queue:**\n",
        "\n",
        "| Cat | Dog | Rabbit | Bird | Hamster\n",
        "| --- | --- | --- | --- | --- |\n",
        "\n",
        "**dequeue** each element and insert them into a **Deque** in the following order below:\n",
        "\n",
        "**Deque:**\n",
        "\n",
        "| Hamster | Bird | Rabbit | Dog | Cat\n",
        "| --- | --- | --- | --- | --- |\n",
        "\n",
        "**Expected output:**\n",
        "\n",
        "['Hamster','Bird', 'Rabbit', 'Dog', 'Cat']"
      ]
    },
    {
      "cell_type": "code",
      "execution_count": 123,
      "metadata": {
        "colab": {
          "base_uri": "https://localhost:8080/"
        },
        "id": "AySJpXvQUniz",
        "outputId": "12a919c3-4d42-4a90-96dd-be150bf49e96"
      },
      "outputs": [
        {
          "output_type": "stream",
          "name": "stdout",
          "text": [
            "['Hamster', 'Bird', 'Rabbit', 'Dog', 'Cat']\n"
          ]
        }
      ],
      "source": [
        "animals = Queue()\n",
        "animals.enqueue('Cat')\n",
        "animals.enqueue('Dog')\n",
        "animals.enqueue('Rabbit')\n",
        "animals.enqueue('Bird')\n",
        "animals.enqueue('Hamster')\n",
        "\n",
        "animals_deque = Deque()\n",
        "animals_deque.addFront(animals.dequeue())\n",
        "animals_deque.addFront(animals.dequeue())\n",
        "animals_deque.addFront(animals.dequeue())\n",
        "animals_deque.addFront(animals.dequeue())\n",
        "animals_deque.addFront(animals.dequeue())\n",
        "\n",
        "print(animals_deque.items)"
      ]
    },
    {
      "cell_type": "markdown",
      "metadata": {
        "id": "JANfzRhoUniz"
      },
      "source": [
        "#### 3. Create a Circular Queue\n",
        "\n",
        "Given the queue below,\n",
        "\n",
        "**Queue:**\n",
        "\n",
        "| I | II | III | IV | V | VI | VII | VIII | IX | X | XI | XII\n",
        "| --- | --- | --- | --- | --- | --- | --- | --- | --- | --- | --- | --- |\n",
        "\n",
        "**dequeue** each element and insert them into a **Circular Deque** in the following order below:\n",
        "\n",
        "**Circular Queue:**\n",
        "\n",
        "<img src=\"clock.jpg\"/>\n",
        "\n",
        "**Expected output:**\n",
        "\n",
        "I II III IV V VI VII VIII IX X XI XII"
      ]
    },
    {
      "cell_type": "code",
      "execution_count": 124,
      "metadata": {
        "colab": {
          "base_uri": "https://localhost:8080/"
        },
        "id": "Q_NX2ybtUni0",
        "outputId": "15930f6c-813b-4abb-9765-e32a0a29f9c5"
      },
      "outputs": [
        {
          "output_type": "stream",
          "name": "stdout",
          "text": [
            "I II III IV V VI VII VIII IX X XI XII \n"
          ]
        }
      ],
      "source": [
        "roman = Queue()\n",
        "roman.enqueue('I')\n",
        "roman.enqueue('II')\n",
        "roman.enqueue('III')\n",
        "roman.enqueue('IV')\n",
        "roman.enqueue('V')\n",
        "roman.enqueue('VI')\n",
        "roman.enqueue('VII')\n",
        "roman.enqueue('VIII')\n",
        "roman.enqueue('IX')\n",
        "roman.enqueue('X')\n",
        "roman.enqueue('XI')\n",
        "roman.enqueue('XII')\n",
        "\n",
        "clock = CircularQueue(roman.size())\n",
        "clock.enqueue(roman.dequeue())\n",
        "clock.enqueue(roman.dequeue())\n",
        "clock.enqueue(roman.dequeue())\n",
        "clock.enqueue(roman.dequeue())\n",
        "clock.enqueue(roman.dequeue())\n",
        "clock.enqueue(roman.dequeue())\n",
        "clock.enqueue(roman.dequeue())\n",
        "clock.enqueue(roman.dequeue())\n",
        "clock.enqueue(roman.dequeue())\n",
        "clock.enqueue(roman.dequeue())\n",
        "clock.enqueue(roman.dequeue())\n",
        "clock.enqueue(roman.dequeue())\n",
        "\n",
        "clock.printCQueue()"
      ]
    },
    {
      "cell_type": "markdown",
      "metadata": {
        "id": "DG7iH0FoUni0"
      },
      "source": [
        "#### 4. Create a Priority Queue\n",
        "\n",
        "Given the queue below,\n",
        "\n",
        "**Queue:**\n",
        "\n",
        "| Cat | Dog | Rabbit | Bird | Hamster\n",
        "| --- | --- | --- | --- | --- |\n",
        "\n",
        "\n",
        "**dequeue** each element and insert them into a **Priority Queue** with the following priority values\n",
        "\n",
        "**Priority Queue:**\n",
        "\n",
        "| Element | Priority |\n",
        "| --- | --- |\n",
        "| Hamster |  0 |\n",
        "| Bird |  1 |\n",
        "| Rabbit |  2 |\n",
        "| Dog |  3 |\n",
        "| Cat |  4 |\n",
        "\n",
        "**Expected output:**\n",
        "\n",
        "Hamster Bird Rabbit Dog Cat"
      ]
    },
    {
      "cell_type": "code",
      "execution_count": 125,
      "metadata": {
        "colab": {
          "base_uri": "https://localhost:8080/"
        },
        "id": "SjV0u-MrUni0",
        "outputId": "0fedf062-2de5-46fb-dabe-ae7c62c914e8"
      },
      "outputs": [
        {
          "output_type": "stream",
          "name": "stdout",
          "text": [
            "Hamster Bird Rabbit Dog Cat "
          ]
        }
      ],
      "source": [
        "pets = Queue()\n",
        "pets.enqueue('Cat')\n",
        "pets.enqueue('Dog')\n",
        "pets.enqueue('Rabbit')\n",
        "pets.enqueue('Bird')\n",
        "pets.enqueue('Hamster')\n",
        "\n",
        "prior = PriorityQueue()\n",
        "prior.push(pets.dequeue(), 4)\n",
        "prior.push(pets.dequeue(), 3)\n",
        "prior.push(pets.dequeue(), 2)\n",
        "prior.push(pets.dequeue(), 1)\n",
        "prior.push(pets.dequeue(), 0)\n",
        "\n",
        "prior.traverse()"
      ]
    },
    {
      "cell_type": "markdown",
      "metadata": {
        "id": "tY6vqAJJUni1"
      },
      "source": [
        "#### 5. Create a Sorted Circular Queue\n",
        "\n",
        "Given the queue below,\n",
        "\n",
        "**Queue:**\n",
        "\n",
        "| 1 | 5 | 3 | 2 | 7 | 8 | 10 | 11 | 6 | 4 | 12 | 9\n",
        "| --- | --- | --- | --- | --- | --- | --- | --- | --- | --- | --- | --- |\n",
        "\n",
        "\n",
        "**dequeue** each element and insert them into a **Circular Queue** in the following order below:\n",
        "\n",
        "**Circular Queue:**\n",
        "\n",
        "<img src=\"clock1.png\"/>\n",
        "\n",
        "**Expected output:**\n",
        "\n",
        "1 2 3 4 5 6 7 8 9 10 11 12"
      ]
    },
    {
      "cell_type": "code",
      "execution_count": 126,
      "metadata": {
        "colab": {
          "base_uri": "https://localhost:8080/"
        },
        "id": "tFw4prXdUni1",
        "outputId": "cc5781f7-1760-4ffc-93f1-a4ff9cbd2114"
      },
      "outputs": [
        {
          "output_type": "stream",
          "name": "stdout",
          "text": [
            "1 2 3 4 5 6 7 8 9 10 11 12 \n"
          ]
        }
      ],
      "source": [
        "nums = Queue()\n",
        "nums.enqueue(1)\n",
        "nums.enqueue(5)\n",
        "nums.enqueue(3)\n",
        "nums.enqueue(2)\n",
        "nums.enqueue(7)\n",
        "nums.enqueue(8)\n",
        "nums.enqueue(10)\n",
        "nums.enqueue(11)\n",
        "nums.enqueue(6)\n",
        "nums.enqueue(4)\n",
        "nums.enqueue(12)\n",
        "nums.enqueue(9)\n",
        "\n",
        "nums_list = []\n",
        "\n",
        "for i in range (0, nums.size()):\n",
        "  nums_list.append(nums.dequeue())\n",
        "\n",
        "nums_list.sort()\n",
        "\n",
        "sort_queue = CircularQueue(len(nums_list))\n",
        "for item in nums_list:\n",
        "  sort_queue.enqueue(item)\n",
        "\n",
        "sort_queue.printCQueue()"
      ]
    }
  ],
  "metadata": {
    "colab": {
      "provenance": [],
      "include_colab_link": true
    },
    "kernelspec": {
      "display_name": "Python 3",
      "language": "python",
      "name": "python3"
    },
    "language_info": {
      "codemirror_mode": {
        "name": "ipython",
        "version": 3
      },
      "file_extension": ".py",
      "mimetype": "text/x-python",
      "name": "python",
      "nbconvert_exporter": "python",
      "pygments_lexer": "ipython3",
      "version": "3.9.13"
    }
  },
  "nbformat": 4,
  "nbformat_minor": 0
}