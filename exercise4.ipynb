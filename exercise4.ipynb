{
  "cells": [
    {
      "cell_type": "markdown",
      "metadata": {
        "id": "view-in-github",
        "colab_type": "text"
      },
      "source": [
        "<a href=\"https://colab.research.google.com/github/ysc4/CCDATRCL_ASSIGNMENT_COM221/blob/main/exercise4.ipynb\" target=\"_parent\"><img src=\"https://colab.research.google.com/assets/colab-badge.svg\" alt=\"Open In Colab\"/></a>"
      ]
    },
    {
      "cell_type": "markdown",
      "metadata": {
        "id": "fCO3VeNzvGDc"
      },
      "source": [
        "# Exercise 4"
      ]
    },
    {
      "cell_type": "markdown",
      "metadata": {
        "id": "UCFGr2qPKONg"
      },
      "source": [
        "#### Pre-defined sorting algorithms"
      ]
    },
    {
      "cell_type": "code",
      "execution_count": 2,
      "metadata": {
        "id": "dXWXOLWtKONg"
      },
      "outputs": [],
      "source": [
        "def mergeSort(array):\n",
        "    steps = 0\n",
        "    if len(array) > 1:\n",
        "\n",
        "      #  r is the point where the array is divided into two subarrays\n",
        "      r = len(array)//2\n",
        "      L = array[:r]\n",
        "      M = array[r:]\n",
        "      steps += 1\n",
        "\n",
        "      # Sort the two halves\n",
        "      steps += mergeSort(L)\n",
        "      steps += mergeSort(M)\n",
        "\n",
        "      i = j = k = 0\n",
        "\n",
        "      # Until we reach either end of either L or M, pick larger among\n",
        "      # elements L and M and place them in the correct position at A[p..r]\n",
        "      while i < len(L) and j < len(M):\n",
        "        steps += 1\n",
        "        if L[i] < M[j]:\n",
        "          array[k] = L[i]\n",
        "          i += 1\n",
        "        else:\n",
        "          array[k] = M[j]\n",
        "          j += 1\n",
        "        k += 1\n",
        "\n",
        "      # When we run out of elements in either L or M,\n",
        "      # pick up the remaining elements and put in A[p..r]\n",
        "      while i < len(L):\n",
        "          steps += 1\n",
        "          array[k] = L[i]\n",
        "          i += 1\n",
        "          k += 1\n",
        "      while j < len(M):\n",
        "          steps += 1\n",
        "          array[k] = M[j]\n",
        "          j += 1\n",
        "          k += 1\n",
        "\n",
        "    return steps\n",
        "\n",
        "# Print the array\n",
        "def printList(array):\n",
        "    for i in range(len(array)):\n",
        "        print(array[i], end=\" \")\n",
        "    print()"
      ]
    },
    {
      "cell_type": "code",
      "execution_count": 3,
      "metadata": {
        "id": "OB-JMVxvKONi"
      },
      "outputs": [],
      "source": [
        "def countingSort(array):\n",
        "    size = len(array)\n",
        "    output = [0] * size\n",
        "\n",
        "    # Initialize count array\n",
        "    count = [0] * 10\n",
        "\n",
        "    # Store the count of each elements in count array\n",
        "    for i in range(0, size):\n",
        "        count[array[i]] += 1\n",
        "\n",
        "    # Store the cummulative count\n",
        "    for i in range(1, 10):\n",
        "        count[i] += count[i - 1]\n",
        "\n",
        "    # Find the index of each element of the original array in count array\n",
        "    # place the elements in output array\n",
        "    i = size - 1\n",
        "    while i >= 0:\n",
        "        output[count[array[i]] - 1] = array[i]\n",
        "        count[array[i]] -= 1\n",
        "        i -= 1\n",
        "\n",
        "    # Copy the sorted elements into original array\n",
        "    for i in range(0, size):\n",
        "        array[i] = output[i]"
      ]
    },
    {
      "cell_type": "code",
      "execution_count": 4,
      "metadata": {
        "id": "VXaukk4_KONj"
      },
      "outputs": [],
      "source": [
        "def insertionSort(array):\n",
        "  swaps = 0\n",
        "  for step in range(1, len(array)):\n",
        "      key = array[step]\n",
        "      j = step - 1\n",
        "\n",
        "      # Compare key with each element on the left of it until an element smaller than it is found\n",
        "      # For descending order, change key<array[j] to key>array[j].\n",
        "      while j >= 0 and key < array[j]:\n",
        "          array[j + 1] = array[j]\n",
        "          j = j - 1\n",
        "          swaps += 1\n",
        "\n",
        "      # Place key at after the element just smaller than it.\n",
        "      array[j + 1] = key\n",
        "  return swaps"
      ]
    },
    {
      "cell_type": "code",
      "execution_count": 5,
      "metadata": {
        "id": "b4yWHH1nKONj"
      },
      "outputs": [],
      "source": [
        "# Bubble sort in Python\n",
        "def bubbleSort(array):\n",
        "  counter = 0\n",
        "  # loop to access each array element\n",
        "  for i in range(len(array)):\n",
        "\n",
        "    # loop to compare array elements\n",
        "    for j in range(0, len(array) - i - 1):\n",
        "\n",
        "      # compare two adjacent elements\n",
        "      # change > to < to sort in descending order\n",
        "      if array[j] > array[j + 1]:\n",
        "\n",
        "        # swapping elements if elements\n",
        "        # are not in the intended order\n",
        "        temp = array[j]\n",
        "        array[j] = array[j+1]\n",
        "        array[j+1] = temp\n",
        "        counter += 1\n",
        "  return counter"
      ]
    },
    {
      "cell_type": "markdown",
      "metadata": {
        "id": "6j9PZVsyvGDe"
      },
      "source": [
        "#### 1. Sort your **student number** in **ascending order**\n",
        "\n",
        "Example:\n",
        "\n",
        "**Input: 2022123456**\n",
        "\n",
        "**Output: 0122223456**"
      ]
    },
    {
      "cell_type": "code",
      "execution_count": 6,
      "metadata": {
        "id": "UuNMRCm3vGDe",
        "colab": {
          "base_uri": "https://localhost:8080/"
        },
        "outputId": "c37fca02-a370-45f3-c0b1-83ca2098c0d1"
      },
      "outputs": [
        {
          "output_type": "stream",
          "name": "stdout",
          "text": [
            "[0, 0, 1, 1, 2, 2, 2, 2, 5, 5]\n"
          ]
        }
      ],
      "source": [
        "student_num = [2,0,2,2,1,0,1,5,2,5]\n",
        "countingSort(student_num)\n",
        "print(student_num)"
      ]
    },
    {
      "cell_type": "markdown",
      "metadata": {
        "id": "felukBjnvGDf"
      },
      "source": [
        "#### 2. Sort the **dates** in **ascending order**.\n",
        "\n",
        "dates = [\"12-25-2023\", birthday, \"01-01-2023\"]\n",
        "\n",
        "Enter your birthday in the birthday variable."
      ]
    },
    {
      "cell_type": "code",
      "execution_count": 7,
      "metadata": {
        "id": "f8xQ3N0jvGDg",
        "colab": {
          "base_uri": "https://localhost:8080/"
        },
        "outputId": "f47404c4-7223-4003-ab39-bbb616cb6ef4"
      },
      "outputs": [
        {
          "output_type": "stream",
          "name": "stdout",
          "text": [
            "['03-02-2004', '01-01-2023', '12-25-2023']\n"
          ]
        }
      ],
      "source": [
        "from datetime import datetime\n",
        "\n",
        "def selectionSort(array, size):\n",
        "\n",
        "    for step in range(size):\n",
        "        min_idx = step\n",
        "\n",
        "        for i in range(step + 1, size):\n",
        "\n",
        "            # to sort in descending order, change > to < in this line\n",
        "            # select the minimum element in each loop\n",
        "            if datetime.strptime(array[i], \"%m-%d-%Y\") < datetime.strptime(array[min_idx], \"%m-%d-%Y\"):\n",
        "                min_idx = i\n",
        "\n",
        "        # put min at the correct position\n",
        "        (array[step], array[min_idx]) = (array[min_idx], array[step])\n",
        "\n",
        "birthday = \"03-02-2004\"\n",
        "\n",
        "dates = [\"12-25-2023\", birthday, \"01-01-2023\"]\n",
        "\n",
        "selectionSort(dates, len(dates))\n",
        "print(dates)"
      ]
    },
    {
      "cell_type": "markdown",
      "metadata": {
        "id": "IFDPeGZxvGDg"
      },
      "source": [
        "#### 3. Count the **total number of swaps** to sort the list below using **Bubble Sort**\n",
        "\n",
        "|3|2|5|1|4|\n",
        "|---|----|---|---|---|"
      ]
    },
    {
      "cell_type": "code",
      "execution_count": 8,
      "metadata": {
        "id": "b1ppwLcevGDg",
        "colab": {
          "base_uri": "https://localhost:8080/"
        },
        "outputId": "22c2facb-e94a-49c1-b11c-0d648e42c71d"
      },
      "outputs": [
        {
          "output_type": "stream",
          "name": "stdout",
          "text": [
            "5\n"
          ]
        }
      ],
      "source": [
        "list = [3, 2, 5, 1, 4]\n",
        "\n",
        "totalswaps = bubbleSort(list)\n",
        "print(totalswaps)"
      ]
    },
    {
      "cell_type": "markdown",
      "metadata": {
        "id": "iO2UusQWvGDi"
      },
      "source": [
        "#### 4. Count the **total number of steps** to sort the list below using **Insertion Sort**\n",
        "\n",
        "\n",
        "|6|2|5|7|4|1|8|9|3|\n",
        "|---|---|---|---|---|---|---|---|---|"
      ]
    },
    {
      "cell_type": "code",
      "execution_count": 9,
      "metadata": {
        "id": "vq1PYEjmvGDi",
        "colab": {
          "base_uri": "https://localhost:8080/"
        },
        "outputId": "049e486d-af70-4f66-d55b-aa9925c6efba"
      },
      "outputs": [
        {
          "output_type": "stream",
          "name": "stdout",
          "text": [
            "16\n"
          ]
        }
      ],
      "source": [
        "list_2 = [6, 2, 5, 7, 4, 1, 8, 9, 3]\n",
        "\n",
        "numberofsteps = insertionSort(list_2)\n",
        "print(numberofsteps)"
      ]
    },
    {
      "cell_type": "markdown",
      "metadata": {
        "id": "jpfNCCdbvGDj"
      },
      "source": [
        "#### 5. Given the list below:\n",
        "\n",
        "\n",
        "|7|5|4|3|2|5|1|8|\n",
        "|---|---|---|---|---|---|---|---|\n",
        "\n",
        "Using **merge sort** and **counting sort**\n",
        "\n",
        "Determine which sorting algorithm is faster by counting the total number of steps for each algorithm\n"
      ]
    },
    {
      "cell_type": "code",
      "execution_count": 10,
      "metadata": {
        "id": "2YVK17cSvGDj",
        "colab": {
          "base_uri": "https://localhost:8080/"
        },
        "outputId": "aefe6efd-9d16-4bef-b585-5e6aada871b3"
      },
      "outputs": [
        {
          "output_type": "stream",
          "name": "stdout",
          "text": [
            "Merge sort steps: 31\n",
            "Counting sort steps: 24\n",
            "Counting sort is faster\n"
          ]
        }
      ],
      "source": [
        "def countingSort(array):\n",
        "    steps = 0\n",
        "    size = len(array)\n",
        "    output = [0] * size\n",
        "\n",
        "    # Initialize count array\n",
        "    count = [0] * 9\n",
        "\n",
        "    # Store the count of each elements in count array\n",
        "    for i in range(0, size):\n",
        "        count[array[i]] += 1\n",
        "        steps += 1\n",
        "\n",
        "    # Store the cummulative count\n",
        "    for i in range(1, 9):\n",
        "        count[i] += count[i - 1]\n",
        "        steps += 1\n",
        "\n",
        "    # Find the index of each element of the original array in count array\n",
        "    # place the elements in output array\n",
        "    i = size - 1\n",
        "    while i >= 0:\n",
        "        output[count[array[i]] - 1] = array[i]\n",
        "        count[array[i]] -= 1\n",
        "        i -= 1\n",
        "        steps += 1\n",
        "\n",
        "    # Copy the sorted elements into original array\n",
        "    for i in range(0, size):\n",
        "        array[i] = output[i]\n",
        "\n",
        "    return steps\n",
        "\n",
        "list_3 = [7, 5, 4, 3, 2, 5, 1, 8]\n",
        "\n",
        "merge_sort_num_steps = mergeSort(list_3)\n",
        "counting_sort_num_steps = countingSort(list_3)\n",
        "\n",
        "print('Merge sort steps:', merge_sort_num_steps)\n",
        "print('Counting sort steps:', counting_sort_num_steps)\n",
        "\n",
        "if merge_sort_num_steps < counting_sort_num_steps:\n",
        "    print(\"Merge sort is faster\")\n",
        "else:\n",
        "    print(\"Counting sort is faster\")"
      ]
    }
  ],
  "metadata": {
    "colab": {
      "provenance": [],
      "include_colab_link": true
    },
    "kernelspec": {
      "display_name": "Python 3",
      "language": "python",
      "name": "python3"
    },
    "language_info": {
      "codemirror_mode": {
        "name": "ipython",
        "version": 3
      },
      "file_extension": ".py",
      "mimetype": "text/x-python",
      "name": "python",
      "nbconvert_exporter": "python",
      "pygments_lexer": "ipython3",
      "version": "3.11.4"
    },
    "orig_nbformat": 4
  },
  "nbformat": 4,
  "nbformat_minor": 0
}