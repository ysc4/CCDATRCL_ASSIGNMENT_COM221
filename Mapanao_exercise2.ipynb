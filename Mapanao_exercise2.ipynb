{
  "cells": [
    {
      "cell_type": "markdown",
      "metadata": {
        "id": "view-in-github",
        "colab_type": "text"
      },
      "source": [
        "<a href=\"https://colab.research.google.com/github/ysc4/CCDATRCL_ASSIGNMENT_COM221/blob/main/Mapanao_exercise2.ipynb\" target=\"_parent\"><img src=\"https://colab.research.google.com/assets/colab-badge.svg\" alt=\"Open In Colab\"/></a>"
      ]
    },
    {
      "cell_type": "markdown",
      "metadata": {
        "id": "QNWAYtOH8JJM"
      },
      "source": [
        "# Exercise 2"
      ]
    },
    {
      "cell_type": "markdown",
      "metadata": {
        "id": "WqS_i0U78JJQ"
      },
      "source": [
        "#### Pre-defined stack functions"
      ]
    },
    {
      "cell_type": "code",
      "execution_count": null,
      "metadata": {
        "id": "Q55AdD2y8JJR"
      },
      "outputs": [],
      "source": [
        "# Creating a stack\n",
        "def create_stack():\n",
        "    stack = []\n",
        "    return stack\n",
        "\n",
        "def print_stack(stack):\n",
        "\n",
        "    if (check_empty(stack)):\n",
        "            return \"stack is empty\"\n",
        "\n",
        "    # Create a copy of the stack and reverse the elements\n",
        "    tempStack = stack.copy()\n",
        "    tempStack.reverse()\n",
        "\n",
        "    # Print all elements using a loop\n",
        "    for i in tempStack:\n",
        "        print(i)\n",
        "\n",
        "    # Delete the copy to free up memory\n",
        "    del tempStack\n",
        "\n",
        "# Creating an empty stack\n",
        "def check_empty(stack):\n",
        "    return len(stack) == 0\n",
        "\n",
        "\n",
        "# Adding items into the stack\n",
        "def push(stack, item):\n",
        "    stack.append(item)\n",
        "    print(\"pushed item: \", item)\n",
        "\n",
        "\n",
        "# Removing an element from the stack\n",
        "def pop(stack):\n",
        "    if (check_empty(stack)):\n",
        "        return \"stack is empty\"\n",
        "\n",
        "    return stack.pop()\n",
        "\n",
        "def peek(stack):\n",
        "\n",
        "    # Use negative indexing to display the last element of the list\n",
        "    print(stack[-1])\n"
      ]
    },
    {
      "cell_type": "markdown",
      "metadata": {
        "id": "z5FA3bY38JJT"
      },
      "source": [
        "#### 1. Create a burger stack.  \n",
        "\n",
        "The output of the stack should be in this order:\n",
        "\n",
        "- Bun\n",
        "\n",
        "- Tomato\n",
        "\n",
        "- Lettuce\n",
        "\n",
        "- Cheese\n",
        "\n",
        "- Patty\n",
        "\n",
        "- Bun"
      ]
    },
    {
      "cell_type": "code",
      "execution_count": null,
      "metadata": {
        "id": "n6yPehQq8JJU",
        "colab": {
          "base_uri": "https://localhost:8080/"
        },
        "outputId": "c409a31c-3c79-492e-ca05-b15c58bb9c96"
      },
      "outputs": [
        {
          "output_type": "stream",
          "name": "stdout",
          "text": [
            "pushed item:  Bun\n",
            "pushed item:  Patty\n",
            "pushed item:  Cheese\n",
            "pushed item:  Lettuce\n",
            "pushed item:  Tomato\n",
            "pushed item:  Bun\n",
            "\n",
            "\n",
            "Bun\n",
            "Tomato\n",
            "Lettuce\n",
            "Cheese\n",
            "Patty\n",
            "Bun\n"
          ]
        }
      ],
      "source": [
        "burger = create_stack()\n",
        "\n",
        "push(burger, 'Bun')\n",
        "push(burger, 'Patty')\n",
        "push(burger, 'Cheese')\n",
        "push(burger, 'Lettuce')\n",
        "push(burger, 'Tomato')\n",
        "push(burger, 'Bun')\n",
        "\n",
        "print('\\n')\n",
        "print_stack(burger)"
      ]
    },
    {
      "cell_type": "markdown",
      "metadata": {
        "id": "W4XvryDA8JJU"
      },
      "source": [
        "#### 2. Reverse a string using a stack\n",
        "\n",
        "Given two stacks:\n",
        "\n",
        "**name_stack = ['E', 'L', 'I', 'Z', 'E', 'R']**\n",
        "\n",
        "**reversed_stack = []**\n",
        "\n",
        "Use your **firstname** and pop each letter from the **name_stack** and push each element into the **reversed_stack**\n",
        "\n",
        "-----------------\n",
        "**Expected output:**\n",
        "\n",
        "print(reversed_stack)\n",
        "\n",
        "['R', 'E', 'Z', 'I', 'L', 'E']"
      ]
    },
    {
      "cell_type": "code",
      "execution_count": null,
      "metadata": {
        "id": "BuPMzC-g8JJV",
        "colab": {
          "base_uri": "https://localhost:8080/"
        },
        "outputId": "2a7b9bc7-eb71-4e61-d9eb-8fe2cfc8d8ad"
      },
      "outputs": [
        {
          "output_type": "stream",
          "name": "stdout",
          "text": [
            "pushed item:  J\n",
            "pushed item:  E\n",
            "pushed item:  S\n",
            "pushed item:  S\n",
            "pushed item:  Y\n",
            "pushed item:  Y\n",
            "pushed item:  S\n",
            "pushed item:  S\n",
            "pushed item:  E\n",
            "pushed item:  J\n",
            "\n",
            "\n",
            "['Y', 'S', 'S', 'E', 'J']\n"
          ]
        }
      ],
      "source": [
        "name_stack = create_stack()\n",
        "reversed_stack = create_stack()\n",
        "push(name_stack, 'J')\n",
        "push(name_stack, 'E')\n",
        "push(name_stack, 'S')\n",
        "push(name_stack, 'S')\n",
        "push(name_stack, 'Y')\n",
        "\n",
        "push(reversed_stack, pop(name_stack))\n",
        "push(reversed_stack, pop(name_stack))\n",
        "push(reversed_stack, pop(name_stack))\n",
        "push(reversed_stack, pop(name_stack))\n",
        "push(reversed_stack, pop(name_stack))\n",
        "\n",
        "print('\\n')\n",
        "print(reversed_stack)"
      ]
    },
    {
      "cell_type": "markdown",
      "metadata": {
        "id": "coRKfCPZ8JJV"
      },
      "source": [
        "#### 3. Remove elements using a stack\n",
        "\n",
        "Given this stack:\n",
        "\n",
        "numbers = [1,2,3,4,5,6,7,8,9,10]\n",
        "\n",
        "new_stack = []\n",
        "\n",
        "Using the **pop()** function, push elements in the **new_stack** if they are an **even number**\n",
        "\n",
        "-----------------\n",
        "\n",
        "**Expected output:**\n",
        "\n",
        "print(new_stack)\n",
        "\n",
        "[2,4,6,8,10]"
      ]
    },
    {
      "cell_type": "code",
      "execution_count": 114,
      "metadata": {
        "id": "zTXYampp8JJV",
        "colab": {
          "base_uri": "https://localhost:8080/"
        },
        "outputId": "12dce4e3-bbcc-4880-b3da-9f2c9789802c"
      },
      "outputs": [
        {
          "output_type": "stream",
          "name": "stdout",
          "text": [
            "pushed item:  1\n",
            "pushed item:  2\n",
            "pushed item:  3\n",
            "pushed item:  4\n",
            "pushed item:  5\n",
            "pushed item:  6\n",
            "pushed item:  7\n",
            "pushed item:  8\n",
            "pushed item:  9\n",
            "pushed item:  10\n",
            "pushed item:  10\n",
            "pushed item:  8\n",
            "pushed item:  6\n",
            "pushed item:  4\n",
            "pushed item:  2\n",
            "\n",
            "\n",
            "[10, 8, 6, 4, 2]\n"
          ]
        }
      ],
      "source": [
        "numbers = create_stack()\n",
        "new_stack = create_stack()\n",
        "\n",
        "push(numbers, 1)\n",
        "push(numbers, 2)\n",
        "push(numbers, 3)\n",
        "push(numbers, 4)\n",
        "push(numbers, 5)\n",
        "push(numbers, 6)\n",
        "push(numbers, 7)\n",
        "push(numbers, 8)\n",
        "push(numbers, 9)\n",
        "push(numbers, 10)\n",
        "\n",
        "i = 0\n",
        "while not(check_empty(numbers)) :\n",
        "  if (i % 2 == 0):\n",
        "      push(new_stack, pop(numbers))\n",
        "  else: pop(numbers)\n",
        "  i += 1\n",
        "\n",
        "print('\\n')\n",
        "print(new_stack)"
      ]
    },
    {
      "cell_type": "markdown",
      "metadata": {
        "id": "1s4LGmuT8JJW"
      },
      "source": [
        "#### 4. Inserting elements into a stack\n",
        "\n",
        "Given two stacks:\n",
        "\n",
        "my_stack = ['E', 'L', 'I', 'Z', 'E', 'R', 'P', 'O', 'N', 'I', 'O', 'J', 'R']\n",
        "\n",
        "empty_stack = []\n",
        "\n",
        "Use **pop()** to get each element from  **my_stack** and use **push()** to insert the element to **empty_stack** only if:\n",
        "\n",
        "1. The element is a **vowel**\n",
        "2. The element does not exist in **empty_stack**\n",
        "\n",
        "----------------------\n",
        "\n",
        "**Expected output:**\n",
        "\n",
        "print_stack(empty_stack)\n",
        "\n",
        "['E', 'I', 'O']"
      ]
    },
    {
      "cell_type": "code",
      "execution_count": 115,
      "metadata": {
        "id": "cGXh7yd18JJW",
        "colab": {
          "base_uri": "https://localhost:8080/"
        },
        "outputId": "6bd932a7-01c3-4adf-c655-f2a49fb0a6ee"
      },
      "outputs": [
        {
          "output_type": "stream",
          "name": "stdout",
          "text": [
            "pushed item:  E\n",
            "pushed item:  L\n",
            "pushed item:  I\n",
            "pushed item:  Z\n",
            "pushed item:  E\n",
            "pushed item:  R\n",
            "pushed item:  P\n",
            "pushed item:  O\n",
            "pushed item:  N\n",
            "pushed item:  I\n",
            "pushed item:  O\n",
            "pushed item:  J\n",
            "pushed item:  R\n",
            "\n",
            "\n",
            "pushed item:  O\n",
            "pushed item:  I\n",
            "pushed item:  E\n",
            "['O', 'I', 'E']\n"
          ]
        }
      ],
      "source": [
        "my_stack = create_stack()\n",
        "empty_stack = create_stack()\n",
        "vowels = ['A', 'E', 'I', 'O', 'U']\n",
        "\n",
        "push(my_stack, 'E')\n",
        "push(my_stack, 'L')\n",
        "push(my_stack, 'I')\n",
        "push(my_stack, 'Z')\n",
        "push(my_stack, 'E')\n",
        "push(my_stack, 'R')\n",
        "push(my_stack, 'P')\n",
        "push(my_stack, 'O')\n",
        "push(my_stack, 'N')\n",
        "push(my_stack, 'I')\n",
        "push(my_stack, 'O')\n",
        "push(my_stack, 'J')\n",
        "push(my_stack, 'R')\n",
        "\n",
        "print('\\n')\n",
        "\n",
        "i = len(my_stack) - 1\n",
        "while not(check_empty(my_stack)):\n",
        "  if (my_stack[i] in vowels):\n",
        "    if not(my_stack[i] in empty_stack):\n",
        "      push(empty_stack, my_stack[i])\n",
        "    else:\n",
        "      pop(my_stack)\n",
        "      i -= 1\n",
        "  else:\n",
        "    pop(my_stack)\n",
        "    i -= 1\n",
        "\n",
        "print(empty_stack)"
      ]
    },
    {
      "cell_type": "markdown",
      "metadata": {
        "id": "cwtpya5m8JJX"
      },
      "source": [
        "#### 5. Sort elements in a stack\n",
        "\n",
        "Given two stacks:\n",
        "\n",
        "number_stack = [3,1,2]\n",
        "\n",
        "sorted_stack = []\n",
        "\n",
        "Create a **sort()** function to pop each element from the **number_stack** and push each element into the **sorted_stack**. The elements in **sorted_stack** must be in ascending order.\n",
        "\n",
        "----------------\n",
        "\n",
        "**Hint:**\n",
        "\n",
        "| iteration | number_stack | sorted_stack |\n",
        "| --- | --- | --- |\n",
        "| 1 | [3, 1, 2] | [] |\n",
        "| 2 | [3, 1] | [2] |\n",
        "| 3 | [3, 2] | [1] |\n",
        "| 4 | [3] | [1, 2] |\n",
        "| 5 | [] | [1, 2, 3] |\n",
        "\n",
        "**Expected output:**\n",
        "\n",
        "print(sorted_stack)\n",
        "\n",
        "[1, 2, 3]"
      ]
    },
    {
      "cell_type": "code",
      "execution_count": 111,
      "metadata": {
        "id": "XrLee2zo8JJX",
        "colab": {
          "base_uri": "https://localhost:8080/"
        },
        "outputId": "e7ed48ac-2298-4c87-fbb8-a26c17950be2"
      },
      "outputs": [
        {
          "output_type": "stream",
          "name": "stdout",
          "text": [
            "pushed item:  3\n",
            "pushed item:  1\n",
            "pushed item:  2\n",
            "pushed item:  2\n",
            "pushed item:  2\n",
            "pushed item:  1\n",
            "pushed item:  2\n",
            "pushed item:  3\n",
            "\n",
            "\n",
            "[1, 2, 3]\n"
          ]
        }
      ],
      "source": [
        "number_stack = create_stack()\n",
        "sorted_stack = create_stack()\n",
        "\n",
        "push(number_stack, 3)\n",
        "push(number_stack, 1)\n",
        "push(number_stack, 2)\n",
        "\n",
        "def sort(stack, sort_stack):\n",
        "  while not(check_empty(stack)):\n",
        "    temp = pop(stack)\n",
        "    while (not(check_empty(sort_stack)) and sort_stack[-1] > temp):\n",
        "      push(stack, pop(sort_stack))\n",
        "    push(sort_stack, temp)\n",
        "\n",
        "while not(check_empty(number_stack)):\n",
        "  sort(number_stack, sorted_stack)\n",
        "\n",
        "print('\\n')\n",
        "print(sorted_stack)"
      ]
    }
  ],
  "metadata": {
    "kernelspec": {
      "display_name": "Python 3",
      "language": "python",
      "name": "python3"
    },
    "language_info": {
      "codemirror_mode": {
        "name": "ipython",
        "version": 3
      },
      "file_extension": ".py",
      "mimetype": "text/x-python",
      "name": "python",
      "nbconvert_exporter": "python",
      "pygments_lexer": "ipython3",
      "version": "3.11.4"
    },
    "orig_nbformat": 4,
    "colab": {
      "provenance": [],
      "include_colab_link": true
    }
  },
  "nbformat": 4,
  "nbformat_minor": 0
}