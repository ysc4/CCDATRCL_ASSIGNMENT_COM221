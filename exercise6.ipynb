{
  "cells": [
    {
      "cell_type": "markdown",
      "metadata": {
        "id": "view-in-github",
        "colab_type": "text"
      },
      "source": [
        "<a href=\"https://colab.research.google.com/github/ysc4/CCDATRCL_ASSIGNMENT_COM221/blob/main/exercise6.ipynb\" target=\"_parent\"><img src=\"https://colab.research.google.com/assets/colab-badge.svg\" alt=\"Open In Colab\"/></a>"
      ]
    },
    {
      "cell_type": "markdown",
      "metadata": {
        "id": "ycr9-i3aWbfo"
      },
      "source": [
        "# Exercise 6"
      ]
    },
    {
      "cell_type": "markdown",
      "metadata": {
        "id": "GkYv4yVbWbfu"
      },
      "source": [
        "#### Pre-defined code"
      ]
    },
    {
      "cell_type": "code",
      "execution_count": 8,
      "metadata": {
        "id": "krEXIlB0Wbfu"
      },
      "outputs": [],
      "source": [
        "class Node:\n",
        "    def __init__(self, item):\n",
        "        self.left = None\n",
        "        self.right = None\n",
        "        self.val = item"
      ]
    },
    {
      "cell_type": "code",
      "execution_count": 9,
      "metadata": {
        "id": "H2a5IwL0Wbfx"
      },
      "outputs": [],
      "source": [
        "def inorder(root):\n",
        "\n",
        "    if root:\n",
        "        # Traverse left\n",
        "        inorder(root.left)\n",
        "        # Traverse root\n",
        "        print(str(root.val) + \"->\", end='')\n",
        "        # Traverse right\n",
        "        inorder(root.right)\n",
        "\n",
        "def postorder(root):\n",
        "\n",
        "    if root:\n",
        "        # Traverse left\n",
        "        postorder(root.left)\n",
        "        # Traverse right\n",
        "        postorder(root.right)\n",
        "        # Traverse root\n",
        "        print(str(root.val) + \"->\", end='')\n",
        "\n",
        "def preorder(root):\n",
        "\n",
        "    if root:\n",
        "        # Traverse root\n",
        "        print(str(root.val) + \"->\", end='')\n",
        "        # Traverse left\n",
        "        preorder(root.left)\n",
        "        # Traverse right\n",
        "        preorder(root.right)"
      ]
    },
    {
      "cell_type": "markdown",
      "metadata": {
        "id": "fGiLLO-MWbfy"
      },
      "source": [
        "#### 1. Construct Create your own company org chart and put yourself as CEO.\n",
        "\n",
        "Using a Tree data structure,\n",
        "\n",
        "- Assign yourself as CEO\n",
        "\n",
        "- Assign any of your classmate as HR Director\n",
        "- Assign any of your classmate as Sales Director\n",
        "\n",
        "- Assign any of your classmate as trainee. His/her boss is the HR Director\n",
        "- Assign any of your classmate as a staff and trainee. Their boss is the Sales Director\n"
      ]
    },
    {
      "cell_type": "markdown",
      "metadata": {
        "id": "vDycPKcaWbfz"
      },
      "source": [
        "<img src=\"https://thumbs.dreamstime.com/z/cartoon-organization-chart-some-company-93778925.jpg\"/>"
      ]
    },
    {
      "cell_type": "code",
      "execution_count": 10,
      "metadata": {
        "id": "3EAogCcoWbf0"
      },
      "outputs": [],
      "source": [
        "ceo = Node('Jessy')\n",
        "hr = Node('Jassy')\n",
        "sales = Node('Jerico')\n",
        "\n",
        "ceo.left = hr\n",
        "ceo.right = sales\n",
        "\n",
        "hr.left = Node('Allen')\n",
        "sales.left = Node('Coli')\n",
        "sales.right = Node('Franze')"
      ]
    },
    {
      "cell_type": "markdown",
      "metadata": {
        "id": "6N9_QuoiWbf0"
      },
      "source": [
        "#### 2. Traverse the tree in in-order traversal"
      ]
    },
    {
      "cell_type": "code",
      "execution_count": 11,
      "metadata": {
        "id": "zYXqnLrgWbf1",
        "colab": {
          "base_uri": "https://localhost:8080/"
        },
        "outputId": "df1957c7-5781-45dc-828a-7cb0e8fce7e3"
      },
      "outputs": [
        {
          "output_type": "stream",
          "name": "stdout",
          "text": [
            "Allen->Jassy->Jessy->Coli->Jerico->Franze->"
          ]
        }
      ],
      "source": [
        "inorder(ceo)\n"
      ]
    },
    {
      "cell_type": "markdown",
      "metadata": {
        "id": "5dhSN2YrWbf1"
      },
      "source": [
        "#### 3. Traverse the tree in pre-order traversal"
      ]
    },
    {
      "cell_type": "code",
      "execution_count": 12,
      "metadata": {
        "id": "35V1J0pXWbf2",
        "colab": {
          "base_uri": "https://localhost:8080/"
        },
        "outputId": "2bdb8e1d-48ca-40e8-e497-2a5d5f53e3ac"
      },
      "outputs": [
        {
          "output_type": "stream",
          "name": "stdout",
          "text": [
            "Jessy->Jassy->Allen->Jerico->Coli->Franze->"
          ]
        }
      ],
      "source": [
        "preorder(ceo)"
      ]
    },
    {
      "cell_type": "markdown",
      "metadata": {
        "id": "pZVBSDqPWbf2"
      },
      "source": [
        "#### 4. Traverse the tree in post-order traversal"
      ]
    },
    {
      "cell_type": "code",
      "execution_count": 13,
      "metadata": {
        "id": "DNnRLHCvWbf2",
        "colab": {
          "base_uri": "https://localhost:8080/"
        },
        "outputId": "a2fa9601-3420-469b-eeba-4e00db5f3d18"
      },
      "outputs": [
        {
          "output_type": "stream",
          "name": "stdout",
          "text": [
            "Allen->Jassy->Coli->Franze->Jerico->Jessy->"
          ]
        }
      ],
      "source": [
        "postorder(ceo)"
      ]
    }
  ],
  "metadata": {
    "kernelspec": {
      "display_name": "Python 3",
      "language": "python",
      "name": "python3"
    },
    "language_info": {
      "codemirror_mode": {
        "name": "ipython",
        "version": 3
      },
      "file_extension": ".py",
      "mimetype": "text/x-python",
      "name": "python",
      "nbconvert_exporter": "python",
      "pygments_lexer": "ipython3",
      "version": "3.11.4"
    },
    "orig_nbformat": 4,
    "colab": {
      "provenance": [],
      "include_colab_link": true
    }
  },
  "nbformat": 4,
  "nbformat_minor": 0
}