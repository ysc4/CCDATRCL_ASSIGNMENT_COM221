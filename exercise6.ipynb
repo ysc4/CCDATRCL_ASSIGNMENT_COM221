{
  "cells": [
    {
      "cell_type": "markdown",
      "metadata": {
        "id": "view-in-github",
        "colab_type": "text"
      },
      "source": [
        "<a href=\"https://colab.research.google.com/github/ysc4/CCDATRCL_ASSIGNMENT_COM221/blob/main/exercise6.ipynb\" target=\"_parent\"><img src=\"https://colab.research.google.com/assets/colab-badge.svg\" alt=\"Open In Colab\"/></a>"
      ]
    },
    {
      "cell_type": "markdown",
      "metadata": {
        "id": "ycr9-i3aWbfo"
      },
      "source": [
        "# Exercise 6"
      ]
    },
    {
      "cell_type": "markdown",
      "metadata": {
        "id": "GkYv4yVbWbfu"
      },
      "source": [
        "#### Pre-defined code"
      ]
    },
    {
      "cell_type": "code",
      "execution_count": 20,
      "metadata": {
        "id": "krEXIlB0Wbfu"
      },
      "outputs": [],
      "source": [
        "class Node:\n",
        "    def __init__(self, item):\n",
        "        self.left = None\n",
        "        self.right = None\n",
        "        self.val = item"
      ]
    },
    {
      "cell_type": "code",
      "execution_count": 21,
      "metadata": {
        "id": "H2a5IwL0Wbfx"
      },
      "outputs": [],
      "source": [
        "def inorder(root):\n",
        "\n",
        "    if root:\n",
        "        # Traverse left\n",
        "        inorder(root.left)\n",
        "        # Traverse root\n",
        "        print(str(root.val) + \"->\", end='')\n",
        "        # Traverse right\n",
        "        inorder(root.right)\n",
        "\n",
        "def postorder(root):\n",
        "\n",
        "    if root:\n",
        "        # Traverse left\n",
        "        postorder(root.left)\n",
        "        # Traverse right\n",
        "        postorder(root.right)\n",
        "        # Traverse root\n",
        "        print(str(root.val) + \"->\", end='')\n",
        "\n",
        "def preorder(root):\n",
        "\n",
        "    if root:\n",
        "        # Traverse root\n",
        "        print(str(root.val) + \"->\", end='')\n",
        "        # Traverse left\n",
        "        preorder(root.left)\n",
        "        # Traverse right\n",
        "        preorder(root.right)"
      ]
    },
    {
      "cell_type": "markdown",
      "metadata": {
        "id": "fGiLLO-MWbfy"
      },
      "source": [
        "#### 1. Construct Create your own company org chart and put yourself as CEO.\n",
        "\n",
        "Using a Tree data structure,\n",
        "\n",
        "- Assign yourself as CEO\n",
        "\n",
        "- Assign any of your classmate as HR Director\n",
        "- Assign any of your classmate as Sales Director\n",
        "\n",
        "- Assign any of your classmate as trainee. His/her boss is the HR Director\n",
        "- Assign any of your classmate as a staff and trainee. Their boss is the Sales Director\n"
      ]
    },
    {
      "cell_type": "markdown",
      "metadata": {
        "id": "vDycPKcaWbfz"
      },
      "source": [
        "<img src=\"https://thumbs.dreamstime.com/z/cartoon-organization-chart-some-company-93778925.jpg\"/>"
      ]
    },
    {
      "cell_type": "code",
      "execution_count": 22,
      "metadata": {
        "id": "3EAogCcoWbf0"
      },
      "outputs": [],
      "source": [
        "ceo = Node('Jessy (CEO)')\n",
        "hr = Node('Blix (HR Director)')\n",
        "sales = Node('Jerico (Sales Director)')\n",
        "\n",
        "ceo.left = hr\n",
        "ceo.right = sales\n",
        "\n",
        "hr.left = Node('Jassy (HR Trainee)')\n",
        "sales.left = Node('Coli (Sales Staff)')\n",
        "sales.right = Node('Franze (Sales Trainee)')"
      ]
    },
    {
      "cell_type": "markdown",
      "metadata": {
        "id": "6N9_QuoiWbf0"
      },
      "source": [
        "#### 2. Traverse the tree in in-order traversal"
      ]
    },
    {
      "cell_type": "code",
      "execution_count": 23,
      "metadata": {
        "id": "zYXqnLrgWbf1",
        "colab": {
          "base_uri": "https://localhost:8080/"
        },
        "outputId": "7ff2196a-4fe9-41b0-965b-ee64cab9f8cf"
      },
      "outputs": [
        {
          "output_type": "stream",
          "name": "stdout",
          "text": [
            "Jassy (HR Trainee)->Blix (HR Director)->Jessy (CEO)->Coli (Sales Staff)->Jerico (Sales Director)->Franze (Sales Trainee)->"
          ]
        }
      ],
      "source": [
        "inorder(ceo)\n"
      ]
    },
    {
      "cell_type": "markdown",
      "metadata": {
        "id": "5dhSN2YrWbf1"
      },
      "source": [
        "#### 3. Traverse the tree in pre-order traversal"
      ]
    },
    {
      "cell_type": "code",
      "execution_count": 24,
      "metadata": {
        "id": "35V1J0pXWbf2",
        "colab": {
          "base_uri": "https://localhost:8080/"
        },
        "outputId": "3906ca8a-b61a-4286-9091-f4c1ae035fd6"
      },
      "outputs": [
        {
          "output_type": "stream",
          "name": "stdout",
          "text": [
            "Jessy (CEO)->Blix (HR Director)->Jassy (HR Trainee)->Jerico (Sales Director)->Coli (Sales Staff)->Franze (Sales Trainee)->"
          ]
        }
      ],
      "source": [
        "preorder(ceo)"
      ]
    },
    {
      "cell_type": "markdown",
      "metadata": {
        "id": "pZVBSDqPWbf2"
      },
      "source": [
        "#### 4. Traverse the tree in post-order traversal"
      ]
    },
    {
      "cell_type": "code",
      "execution_count": 25,
      "metadata": {
        "id": "DNnRLHCvWbf2",
        "colab": {
          "base_uri": "https://localhost:8080/"
        },
        "outputId": "190bbef0-4b50-491f-cea3-31229cd70ba9"
      },
      "outputs": [
        {
          "output_type": "stream",
          "name": "stdout",
          "text": [
            "Jassy (HR Trainee)->Blix (HR Director)->Coli (Sales Staff)->Franze (Sales Trainee)->Jerico (Sales Director)->Jessy (CEO)->"
          ]
        }
      ],
      "source": [
        "postorder(ceo)"
      ]
    }
  ],
  "metadata": {
    "kernelspec": {
      "display_name": "Python 3",
      "language": "python",
      "name": "python3"
    },
    "language_info": {
      "codemirror_mode": {
        "name": "ipython",
        "version": 3
      },
      "file_extension": ".py",
      "mimetype": "text/x-python",
      "name": "python",
      "nbconvert_exporter": "python",
      "pygments_lexer": "ipython3",
      "version": "3.11.4"
    },
    "orig_nbformat": 4,
    "colab": {
      "provenance": [],
      "include_colab_link": true
    }
  },
  "nbformat": 4,
  "nbformat_minor": 0
}